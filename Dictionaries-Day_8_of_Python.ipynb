{
  "nbformat": 4,
  "nbformat_minor": 0,
  "metadata": {
    "kernelspec": {
      "display_name": "Python 3",
      "language": "python",
      "name": "python3"
    },
    "language_info": {
      "codemirror_mode": {
        "name": "ipython",
        "version": 3
      },
      "file_extension": ".py",
      "mimetype": "text/x-python",
      "name": "python",
      "nbconvert_exporter": "python",
      "pygments_lexer": "ipython3",
      "version": "3.5.4"
    },
    "colab": {
      "name": "Day 8 of Python dictionaries.ipynb",
      "provenance": [],
      "include_colab_link": true
    }
  },
  "cells": [
    {
      "cell_type": "markdown",
      "metadata": {
        "id": "view-in-github",
        "colab_type": "text"
      },
      "source": [
        "<a href=\"https://colab.research.google.com/github/iqraceme/60_Days_of_Udacity/blob/master/Dictionaries-Day_8_of_Python.ipynb\" target=\"_parent\"><img src=\"https://colab.research.google.com/assets/colab-badge.svg\" alt=\"Open In Colab\"/></a>"
      ]
    },
    {
      "cell_type": "markdown",
      "metadata": {
        "id": "UM-PoeyHXW9z",
        "colab_type": "text"
      },
      "source": [
        "# [Dictionaries](https://docs.python.org/3/library/stdtypes.html#dict) \n",
        "Collections of `key`-`value` pairs. "
      ]
    },
    {
      "cell_type": "code",
      "metadata": {
        "id": "DEJXjoi1XW92",
        "colab_type": "code",
        "colab": {}
      },
      "source": [
        "my_empty_dict = {}  # alternative: my_empty_dict = dict()\n",
        "print('dict: {}, type: {}'.format(my_empty_dict, type(my_empty_dict)))"
      ],
      "execution_count": 0,
      "outputs": []
    },
    {
      "cell_type": "code",
      "metadata": {
        "id": "8EGpDIWLXY7C",
        "colab_type": "code",
        "outputId": "2d3c0011-1755-48d2-b19a-0d31d0dc6d8e",
        "colab": {
          "base_uri": "https://localhost:8080/",
          "height": 35
        }
      },
      "source": [
        "dict1 = {}\n",
        "print('dictionary:{}, type:{}'.format(dict1,\n",
        "                                      type(dict1)))"
      ],
      "execution_count": 0,
      "outputs": [
        {
          "output_type": "stream",
          "text": [
            "dictionary:{}, type:<class 'dict'>\n"
          ],
          "name": "stdout"
        }
      ]
    },
    {
      "cell_type": "markdown",
      "metadata": {
        "id": "VZ8KvOjlXW97",
        "colab_type": "text"
      },
      "source": [
        "## Initialization"
      ]
    },
    {
      "cell_type": "code",
      "metadata": {
        "id": "wWNzX9UeXW98",
        "colab_type": "code",
        "outputId": "63cdd320-652d-4da9-b950-9ea6e3ab29ed",
        "colab": {
          "base_uri": "https://localhost:8080/",
          "height": 87
        }
      },
      "source": [
        "dict1 = {'value1': 1.6, 'value2': 10, 'name': 'John Doe'}\n",
        "dict2 = dict(value1=1.6, value2=10, name='John Doe')\n",
        "\n",
        "print(dict1)\n",
        "print(dict2)\n",
        "\n",
        "print('equal: {}'.format(dict1 == dict2))\n",
        "print('length: {}'.format(len(dict1)))\n",
        "\n",
        "\n"
      ],
      "execution_count": 0,
      "outputs": [
        {
          "output_type": "stream",
          "text": [
            "{'value1': 1.6, 'value2': 10, 'name': 'John Doe'}\n",
            "{'value1': 1.6, 'value2': 10, 'name': 'John Doe'}\n",
            "equal: True\n",
            "length: 3\n"
          ],
          "name": "stdout"
        }
      ]
    },
    {
      "cell_type": "markdown",
      "metadata": {
        "id": "ePUS8qYkXW9_",
        "colab_type": "text"
      },
      "source": [
        "## `dict.keys(), dict.values(), dict.items()`"
      ]
    },
    {
      "cell_type": "code",
      "metadata": {
        "id": "P9GG4OuYXW-A",
        "colab_type": "code",
        "outputId": "6f5ffbb1-a24f-422e-d971-770c5c5ca970",
        "colab": {
          "base_uri": "https://localhost:8080/",
          "height": 69
        }
      },
      "source": [
        "print('keys: {}'.format(dict1.keys()))\n",
        "print('values: {}'.format(dict1.values()))\n",
        "print('items: {}'.format(dict1.items()))\n",
        "\n",
        "\n"
      ],
      "execution_count": 0,
      "outputs": [
        {
          "output_type": "stream",
          "text": [
            "keys: dict_keys(['value1', 'value2', 'name'])\n",
            "values: dict_values([1.6, 10, 'John Doe'])\n",
            "items: dict_items([('value1', 1.6), ('value2', 10), ('name', 'John Doe')])\n"
          ],
          "name": "stdout"
        }
      ]
    },
    {
      "cell_type": "markdown",
      "metadata": {
        "id": "fNqECbmGXW-E",
        "colab_type": "text"
      },
      "source": [
        "## Accessing and setting values"
      ]
    },
    {
      "cell_type": "code",
      "metadata": {
        "id": "PjkPr7xVXW-F",
        "colab_type": "code",
        "outputId": "9228d9f9-96bf-4796-8e8b-1e15f704b557",
        "colab": {
          "base_uri": "https://localhost:8080/",
          "height": 52
        }
      },
      "source": [
        "\n",
        "\n",
        "\n",
        "dict1 = {}\n",
        "dict1['key1'] = 'value1'\n",
        "dict1['key2'] = 99\n",
        "dict1['key1'] = 'new'\n",
        "print(dict1)\n",
        "print('value of key1:{}'.format(dict1['key1']))"
      ],
      "execution_count": 0,
      "outputs": [
        {
          "output_type": "stream",
          "text": [
            "{'key1': 'new', 'key2': 99}\n",
            "value of key1:new\n"
          ],
          "name": "stdout"
        }
      ]
    },
    {
      "cell_type": "markdown",
      "metadata": {
        "id": "vzLEGWgcXW-I",
        "colab_type": "text"
      },
      "source": [
        "Accessing a nonexistent key will raise `KeyError` (see [`dict.get()`](#dict_get) for workaround):"
      ]
    },
    {
      "cell_type": "code",
      "metadata": {
        "id": "rCEbFH43XW-K",
        "colab_type": "code",
        "colab": {}
      },
      "source": [
        "# print(my_dict['nope'])"
      ],
      "execution_count": 0,
      "outputs": []
    },
    {
      "cell_type": "markdown",
      "metadata": {
        "id": "lnrvCNb0XW-N",
        "colab_type": "text"
      },
      "source": [
        "## Deleting"
      ]
    },
    {
      "cell_type": "code",
      "metadata": {
        "id": "W0mDy6YLXW-O",
        "colab_type": "code",
        "outputId": "81e803a2-aa80-483f-b1cc-f80c9bd2aa46",
        "colab": {
          "base_uri": "https://localhost:8080/",
          "height": 52
        }
      },
      "source": [
        "my_dict = {'key1': 'value1', 'key2': 99, 'keyX': 'valueX'}\n",
        "del my_dict['keyX']\n",
        "print(my_dict)\n",
        "\n",
        "# Usually better to make sure that the key exists (see also pop() and popitem())\n",
        "key_to_delete = 'key1'\n",
        "if key_to_delete in my_dict:\n",
        "    del my_dict[key_to_delete]\n",
        "    print(my_dict)\n",
        "else:\n",
        "    print('{key} is not in {dictionary}'.format(key=key_to_delete, dictionary=my_dict))\n",
        "\n",
        "\n",
        "  "
      ],
      "execution_count": 0,
      "outputs": [
        {
          "output_type": "stream",
          "text": [
            "{'key1': 'value1', 'key2': 99}\n",
            "{'key2': 99}\n"
          ],
          "name": "stdout"
        }
      ]
    },
    {
      "cell_type": "markdown",
      "metadata": {
        "id": "ZuEM6DQYXW-R",
        "colab_type": "text"
      },
      "source": [
        "## Dictionaries are mutable"
      ]
    },
    {
      "cell_type": "code",
      "metadata": {
        "id": "Y5V8EFN3XW-S",
        "colab_type": "code",
        "colab": {}
      },
      "source": [
        "my_dict = {'ham': 'good', 'carrot': 'semi good'}\n",
        "my_other_dict = my_dict\n",
        "my_other_dict['carrot'] = 'super tasty'\n",
        "my_other_dict['sausage'] = 'best ever'\n",
        "print('my_dict: {}\\nother: {}'.format(my_dict, my_other_dict))\n",
        "print('equal: {}'.format(my_dict == my_other_dict))"
      ],
      "execution_count": 0,
      "outputs": []
    },
    {
      "cell_type": "markdown",
      "metadata": {
        "id": "wCwO05l0XW-V",
        "colab_type": "text"
      },
      "source": [
        "Create a new `dict` if you want to have a copy:"
      ]
    },
    {
      "cell_type": "code",
      "metadata": {
        "id": "aIE66ug4XW-V",
        "colab_type": "code",
        "outputId": "14de548e-9ee2-4136-c2c9-fe06b30a79b5",
        "colab": {
          "base_uri": "https://localhost:8080/",
          "height": 69
        }
      },
      "source": [
        "my_dict = {'ham': 'good', 'carrot': 'semi good'}\n",
        "my_other_dict = dict(my_dict)\n",
        "my_other_dict['beer'] = 'decent'\n",
        "print('my_dict: {}\\nother: {}'.format(my_dict, my_other_dict))\n",
        "print('equal: {}'.format(my_dict == my_other_dict))"
      ],
      "execution_count": 0,
      "outputs": [
        {
          "output_type": "stream",
          "text": [
            "my_dict: {'ham': 'good', 'carrot': 'semi good'}\n",
            "other: {'ham': 'good', 'carrot': 'semi good', 'beer': 'decent'}\n",
            "equal: False\n"
          ],
          "name": "stdout"
        }
      ]
    },
    {
      "cell_type": "markdown",
      "metadata": {
        "id": "qsPypm3WXW-Y",
        "colab_type": "text"
      },
      "source": [
        "<a id='dict_get'></a>\n",
        "## `dict.get()`\n",
        "Returns `None` if `key` is not in `dict`. However, you can also specify `default` return value which will be returned if `key` is not present in the `dict`. "
      ]
    },
    {
      "cell_type": "code",
      "metadata": {
        "id": "MWT55YorXW-a",
        "colab_type": "code",
        "outputId": "8b6ef99a-46c5-410a-ca91-f328123ce148",
        "colab": {
          "base_uri": "https://localhost:8080/",
          "height": 35
        }
      },
      "source": [
        "\n",
        "\n",
        "\n",
        "dict1 = {'a': 1, 'b': 2, 'c': 3}\n",
        "dict1.get('a')"
      ],
      "execution_count": 0,
      "outputs": [
        {
          "output_type": "execute_result",
          "data": {
            "text/plain": [
              "1"
            ]
          },
          "metadata": {
            "tags": []
          },
          "execution_count": 20
        }
      ]
    },
    {
      "cell_type": "markdown",
      "metadata": {
        "id": "1mN9h17pXW-d",
        "colab_type": "text"
      },
      "source": [
        "## `dict.pop()`"
      ]
    },
    {
      "cell_type": "code",
      "metadata": {
        "id": "OBn78UAlXW-e",
        "colab_type": "code",
        "outputId": "a6393e61-382d-4a62-c3cd-6958cffdfff5",
        "colab": {
          "base_uri": "https://localhost:8080/",
          "height": 104
        }
      },
      "source": [
        "my_dict = dict(food='ham', drink='beer', sport='football')\n",
        "print('dict before pops: {}'.format(my_dict))\n",
        "\n",
        "food = my_dict.pop('food')\n",
        "print('food: {}'.format(food))\n",
        "print('dict after popping food: {}'.format(my_dict))\n",
        "\n",
        "food_again = my_dict.pop('food', 'default value for food')\n",
        "print('food again: {}'.format(food_again))\n",
        "print('dict after popping food again: {}'.format(my_dict))\n"
      ],
      "execution_count": 0,
      "outputs": [
        {
          "output_type": "stream",
          "text": [
            "dict before pops: {'food': 'ham', 'drink': 'beer', 'sport': 'football'}\n",
            "food: ham\n",
            "dict after popping food: {'drink': 'beer', 'sport': 'football'}\n",
            "food again: default value for food\n",
            "dict after popping food again: {'drink': 'beer', 'sport': 'football'}\n"
          ],
          "name": "stdout"
        }
      ]
    },
    {
      "cell_type": "markdown",
      "metadata": {
        "id": "rELODs45XW-h",
        "colab_type": "text"
      },
      "source": [
        "## `dict.setdefault()`\n",
        "Returns the `value` of `key` defined as first parameter. If the `key` is not present in the dict, adds `key` with default value (second parameter)."
      ]
    },
    {
      "cell_type": "code",
      "metadata": {
        "id": "QOc3mrkBXW-h",
        "colab_type": "code",
        "outputId": "7a1c5ccd-88e8-43f5-bb47-5068c36c7402",
        "colab": {
          "base_uri": "https://localhost:8080/",
          "height": 69
        }
      },
      "source": [
        "my_dict = {'a': 1, 'b': 2, 'c': 3}\n",
        "a = my_dict.setdefault('a', 'my default value')\n",
        "d = my_dict.setdefault('d', 'my default value')\n",
        "print('a: {}\\nd: {}\\nmy_dict: {}'.format(a, d, my_dict))"
      ],
      "execution_count": 0,
      "outputs": [
        {
          "output_type": "stream",
          "text": [
            "a: 1\n",
            "d: my default value\n",
            "my_dict: {'a': 1, 'b': 2, 'c': 3, 'd': 'my default value'}\n"
          ],
          "name": "stdout"
        }
      ]
    },
    {
      "cell_type": "markdown",
      "metadata": {
        "id": "5lIUAhcAXW-k",
        "colab_type": "text"
      },
      "source": [
        "## `dict.update()`\n",
        "Merge two `dict`s"
      ]
    },
    {
      "cell_type": "code",
      "metadata": {
        "id": "_W2dNxczXW-l",
        "colab_type": "code",
        "outputId": "4f990bb7-0259-49e3-ac3d-4474dfa70387",
        "colab": {
          "base_uri": "https://localhost:8080/",
          "height": 52
        }
      },
      "source": [
        "dict1 = {'a': 1, 'b': 2}\n",
        "dict2 = {'c': 3}\n",
        "dict1.update(dict2)\n",
        "print(dict1)\n",
        "\n",
        "# If they have same keys:\n",
        "dict1.update({'c': 4})\n",
        "print(dict1)"
      ],
      "execution_count": 0,
      "outputs": [
        {
          "output_type": "stream",
          "text": [
            "{'a': 1, 'b': 2, 'c': 3}\n",
            "{'a': 1, 'b': 2, 'c': 4}\n"
          ],
          "name": "stdout"
        }
      ]
    },
    {
      "cell_type": "markdown",
      "metadata": {
        "id": "XXLeLn1NXW-o",
        "colab_type": "text"
      },
      "source": [
        "## The keys of a `dict` have to be immutable"
      ]
    },
    {
      "cell_type": "markdown",
      "metadata": {
        "id": "BdGuAv25XW-p",
        "colab_type": "text"
      },
      "source": [
        "Thus you can not use e.g. a `list` or a `dict` as key because they are mutable types\n",
        ":"
      ]
    },
    {
      "cell_type": "code",
      "metadata": {
        "id": "y20PwC_qXW-r",
        "colab_type": "code",
        "colab": {}
      },
      "source": [
        "# bad_dict = {['my_list'], 'value'}  # Raises TypeError"
      ],
      "execution_count": 0,
      "outputs": []
    },
    {
      "cell_type": "markdown",
      "metadata": {
        "id": "DY0fxNXsXW-v",
        "colab_type": "text"
      },
      "source": [
        "Values can be mutable"
      ]
    },
    {
      "cell_type": "code",
      "metadata": {
        "id": "XVJSyLciXW-v",
        "colab_type": "code",
        "colab": {}
      },
      "source": [
        "good_dict = {'my key': ['Python', 'is', 'still', 'cool']}\n",
        "print(good_dict)"
      ],
      "execution_count": 0,
      "outputs": []
    }
  ]
}